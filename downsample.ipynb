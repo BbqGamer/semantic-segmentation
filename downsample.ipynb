{
 "cells": [
  {
   "cell_type": "code",
   "execution_count": null,
   "id": "5ae0d9bd",
   "metadata": {},
   "outputs": [],
   "source": [
    "import argparse\n",
    "import random\n",
    "import shutil\n",
    "import tempfile\n",
    "from pathlib import Path\n",
    "\n",
    "import matplotlib.pyplot as plt\n",
    "import numpy as np\n",
    "import pandas as pd\n",
    "import yaml\n",
    "from sklearn.preprocessing import MultiLabelBinarizer\n",
    "from skmultilearn.model_selection import iterative_train_test_split\n"
   ]
  },
  {
   "cell_type": "code",
   "execution_count": null,
   "id": "12aa6e5f",
   "metadata": {},
   "outputs": [],
   "source": [
    "SEQUENCES = [\"00\", \"01\", \"02\", \"03\", \"04\", \"05\", \"06\", \"07\", \"08\", \"09\", \"10\"]\n",
    "\n",
    "\n",
    "def load_labels(file_path):\n",
    "    labels = np.fromfile(file_path, dtype=np.uint32)\n",
    "    semantic_labels = labels & 0xFFFF  # mask lower 16 bits\n",
    "    instance_ids = labels >> 16  # upper 16 bits\n",
    "    return semantic_labels, instance_ids\n",
    "\n",
    "\n",
    "def parse_label(label, kitty_conf):\n",
    "    return kitty_conf[\"learning_map\"][label]\n"
   ]
  },
  {
   "cell_type": "code",
   "execution_count": null,
   "id": "0e780fe7",
   "metadata": {},
   "outputs": [
    {
     "name": "stdout",
     "output_type": "stream",
     "text": [
      "{-1: 0, 0: 0, 1: 0, 2: 0, 3: 0, 4: 0, 5: 0, 6: 0, 7: 0, 8: 0, 9: 0, 10: 0, 11: 0, 12: 0, 13: 0, 14: 0, 15: 0, 16: 0, 17: 0, 18: 0}\n",
      "/home/konstanty/STUDIA/masters_1_sem/rob3/data_odometry_velodyne\n",
      "sem\n"
     ]
    }
   ],
   "source": [
    "# parser = argparse.ArgumentParser()\n",
    "# parser.add_argument(\"--dataset\")\n",
    "# parser.add_argument(\"--outfile\")\n",
    "# parser.add_argument(\"--fraction\", type=float, default=0.02)\n",
    "# parser.add_argument(\"--sem-kitty-conf\", default=\"semantic-kitti.yaml\")\n",
    "# args = parser.parse_args()\n",
    "# --outfile sem --dataset\n",
    "\n",
    "outfile = Path(\"sem\").stem\n",
    "dataset = Path(\"/home/konstanty/STUDIA/masters_1_sem/rob3/data_odometry_velodyne\")\n",
    "with open(\"semantic-kitti.yaml\", \"r\") as f:\n",
    "    kitty_conf = yaml.load(f, yaml.Loader)\n",
    "all_labels_dict = {}\n",
    "for l in kitty_conf[\"learning_map_inv\"]:\n",
    "    all_labels_dict[l] = 0\n",
    "print(all_labels_dict)\n",
    "print(dataset)\n",
    "print(outfile)\n",
    "all_frames = 0\n",
    "X = []\n",
    "y = []\n",
    "for seq in SEQUENCES:\n",
    "    seqpath = \"dataset/sequences/\" + seq\n",
    "    label_dir = dataset / seqpath / \"labels\"\n",
    "    label_files = list(label_dir.iterdir())\n",
    "    filtered_labels = []\n",
    "    for file in label_files:\n",
    "        X.append(file)\n",
    "        all_frames += 1\n",
    "\n",
    "        label, _ = load_labels(file)\n",
    "        vals_unique = np.unique(label)\n",
    "        # print(vals_unique)\n",
    "        s = set()\n",
    "        for v in vals_unique:\n",
    "            s.add(parse_label(v, kitty_conf))\n",
    "        y.append(list(s))\n",
    "        for i in s:\n",
    "            all_labels_dict[i] += 1\n",
    "mlb = MultiLabelBinarizer()\n",
    "labels_binary = mlb.fit_transform(y)\n",
    "\n",
    "labels_df = pd.DataFrame(labels_binary, columns=mlb.classes_)\n"
   ]
  },
  {
   "cell_type": "code",
   "execution_count": 8,
   "id": "60f2f7e9",
   "metadata": {},
   "outputs": [],
   "source": [
    "labels_df2 = labels_df.sample(frac=1)"
   ]
  },
  {
   "cell_type": "code",
   "execution_count": 23,
   "id": "813ea799",
   "metadata": {},
   "outputs": [
    {
     "data": {
      "text/plain": [
       "(23201, 1)"
      ]
     },
     "execution_count": 23,
     "metadata": {},
     "output_type": "execute_result"
    }
   ],
   "source": [
    "labels_df2.index.to_numpy().reshape(-1, 1).shape"
   ]
  },
  {
   "cell_type": "code",
   "execution_count": 22,
   "id": "065c6cd7",
   "metadata": {},
   "outputs": [
    {
     "data": {
      "text/plain": [
       "(23201, 1)"
      ]
     },
     "execution_count": 22,
     "metadata": {},
     "output_type": "execute_result"
    }
   ],
   "source": [
    "np.arange(len(labels_df2)).reshape(-1, 1).shape"
   ]
  },
  {
   "cell_type": "code",
   "execution_count": null,
   "id": "2727c2e4",
   "metadata": {},
   "outputs": [],
   "source": [
    "import numpy as np\n",
    "\n",
    "dummy_X = labels_df2.index.to_numpy().reshape(-1, 1)\n",
    "y2 = labels_df2.values\n",
    "\n",
    "X_train, y_train, X_test, y_test = iterative_train_test_split(\n",
    "    dummy_X, y2, test_size=0.1\n",
    ")"
   ]
  },
  {
   "cell_type": "code",
   "execution_count": null,
   "id": "5effb7d6",
   "metadata": {},
   "outputs": [],
   "source": [
    "# import numpy as np\n",
    "\n",
    "# dummy_X = np.arange(len(labels_df)).reshape(-1, 1)  # dummy features\n",
    "# y = labels_df.values\n",
    "\n",
    "# X_train, y_train, X_test, y_test = iterative_train_test_split(\n",
    "# \tdummy_X, y, test_size=0.1\n",
    "# )"
   ]
  },
  {
   "cell_type": "code",
   "execution_count": null,
   "id": "8e332f5f",
   "metadata": {},
   "outputs": [
    {
     "data": {
      "text/plain": [
       "array([0.082, 0.077, 0.019, 0.014, 0.009, 0.025, 0.024, 0.009, 0.003,\n",
       "       0.082, 0.032, 0.078, 0.021, 0.074, 0.08 , 0.082, 0.074, 0.08 ,\n",
       "       0.08 , 0.057])"
      ]
     },
     "execution_count": 26,
     "metadata": {},
     "output_type": "execute_result"
    }
   ],
   "source": [
    "np.round(np.sum(y_test, axis=0) / np.sum(y_test), 3)"
   ]
  },
  {
   "cell_type": "code",
   "execution_count": null,
   "id": "74d19ba7",
   "metadata": {},
   "outputs": [
    {
     "data": {
      "text/plain": [
       "array([0.082, 0.077, 0.019, 0.013, 0.009, 0.026, 0.024, 0.008, 0.003,\n",
       "       0.082, 0.032, 0.078, 0.022, 0.075, 0.08 , 0.082, 0.074, 0.08 ,\n",
       "       0.08 , 0.057])"
      ]
     },
     "execution_count": 27,
     "metadata": {},
     "output_type": "execute_result"
    }
   ],
   "source": [
    "np.round(np.sum(y_train, axis=0) / np.sum(y_train), 3)"
   ]
  },
  {
   "cell_type": "code",
   "execution_count": null,
   "id": "316607da",
   "metadata": {},
   "outputs": [
    {
     "ename": "ValueError",
     "evalue": "setting an array element with a sequence. The requested array has an inhomogeneous shape after 1 dimensions. The detected shape was (23201,) + inhomogeneous part.",
     "output_type": "error",
     "traceback": [
      "\u001b[31m---------------------------------------------------------------------------\u001b[39m",
      "\u001b[31mValueError\u001b[39m                                Traceback (most recent call last)",
      "\u001b[36mCell\u001b[39m\u001b[36m \u001b[39m\u001b[32mIn[12]\u001b[39m\u001b[32m, line 1\u001b[39m\n\u001b[32m----> \u001b[39m\u001b[32m1\u001b[39m np.round(\u001b[43mnp\u001b[49m\u001b[43m.\u001b[49m\u001b[43msum\u001b[49m\u001b[43m(\u001b[49m\u001b[43my\u001b[49m\u001b[43m,\u001b[49m\u001b[43m \u001b[49m\u001b[43maxis\u001b[49m\u001b[43m=\u001b[49m\u001b[32;43m0\u001b[39;49m\u001b[43m)\u001b[49m/np.sum(y),\u001b[32m3\u001b[39m)\n",
      "\u001b[36mFile \u001b[39m\u001b[32m~/STUDIA/masters_1_sem/rob3/semantic-segmentation/.venv/lib/python3.12/site-packages/numpy/_core/fromnumeric.py:2466\u001b[39m, in \u001b[36msum\u001b[39m\u001b[34m(a, axis, dtype, out, keepdims, initial, where)\u001b[39m\n\u001b[32m   2463\u001b[39m         \u001b[38;5;28;01mreturn\u001b[39;00m out\n\u001b[32m   2464\u001b[39m     \u001b[38;5;28;01mreturn\u001b[39;00m res\n\u001b[32m-> \u001b[39m\u001b[32m2466\u001b[39m \u001b[38;5;28;01mreturn\u001b[39;00m \u001b[43m_wrapreduction\u001b[49m\u001b[43m(\u001b[49m\n\u001b[32m   2467\u001b[39m \u001b[43m    \u001b[49m\u001b[43ma\u001b[49m\u001b[43m,\u001b[49m\u001b[43m \u001b[49m\u001b[43mnp\u001b[49m\u001b[43m.\u001b[49m\u001b[43madd\u001b[49m\u001b[43m,\u001b[49m\u001b[43m \u001b[49m\u001b[33;43m'\u001b[39;49m\u001b[33;43msum\u001b[39;49m\u001b[33;43m'\u001b[39;49m\u001b[43m,\u001b[49m\u001b[43m \u001b[49m\u001b[43maxis\u001b[49m\u001b[43m,\u001b[49m\u001b[43m \u001b[49m\u001b[43mdtype\u001b[49m\u001b[43m,\u001b[49m\u001b[43m \u001b[49m\u001b[43mout\u001b[49m\u001b[43m,\u001b[49m\n\u001b[32m   2468\u001b[39m \u001b[43m    \u001b[49m\u001b[43mkeepdims\u001b[49m\u001b[43m=\u001b[49m\u001b[43mkeepdims\u001b[49m\u001b[43m,\u001b[49m\u001b[43m \u001b[49m\u001b[43minitial\u001b[49m\u001b[43m=\u001b[49m\u001b[43minitial\u001b[49m\u001b[43m,\u001b[49m\u001b[43m \u001b[49m\u001b[43mwhere\u001b[49m\u001b[43m=\u001b[49m\u001b[43mwhere\u001b[49m\n\u001b[32m   2469\u001b[39m \u001b[43m\u001b[49m\u001b[43m)\u001b[49m\n",
      "\u001b[36mFile \u001b[39m\u001b[32m~/STUDIA/masters_1_sem/rob3/semantic-segmentation/.venv/lib/python3.12/site-packages/numpy/_core/fromnumeric.py:86\u001b[39m, in \u001b[36m_wrapreduction\u001b[39m\u001b[34m(obj, ufunc, method, axis, dtype, out, **kwargs)\u001b[39m\n\u001b[32m     83\u001b[39m         \u001b[38;5;28;01melse\u001b[39;00m:\n\u001b[32m     84\u001b[39m             \u001b[38;5;28;01mreturn\u001b[39;00m reduction(axis=axis, out=out, **passkwargs)\n\u001b[32m---> \u001b[39m\u001b[32m86\u001b[39m \u001b[38;5;28;01mreturn\u001b[39;00m \u001b[43mufunc\u001b[49m\u001b[43m.\u001b[49m\u001b[43mreduce\u001b[49m\u001b[43m(\u001b[49m\u001b[43mobj\u001b[49m\u001b[43m,\u001b[49m\u001b[43m \u001b[49m\u001b[43maxis\u001b[49m\u001b[43m,\u001b[49m\u001b[43m \u001b[49m\u001b[43mdtype\u001b[49m\u001b[43m,\u001b[49m\u001b[43m \u001b[49m\u001b[43mout\u001b[49m\u001b[43m,\u001b[49m\u001b[43m \u001b[49m\u001b[43m*\u001b[49m\u001b[43m*\u001b[49m\u001b[43mpasskwargs\u001b[49m\u001b[43m)\u001b[49m\n",
      "\u001b[31mValueError\u001b[39m: setting an array element with a sequence. The requested array has an inhomogeneous shape after 1 dimensions. The detected shape was (23201,) + inhomogeneous part."
     ]
    }
   ],
   "source": [
    "np.round(np.sum(y, axis=0) / np.sum(y), 3)"
   ]
  },
  {
   "cell_type": "code",
   "execution_count": 28,
   "id": "a680a8d8",
   "metadata": {},
   "outputs": [],
   "source": [
    "test_indices = X_test.flatten()"
   ]
  },
  {
   "cell_type": "code",
   "execution_count": 29,
   "id": "f540a1c0",
   "metadata": {},
   "outputs": [
    {
     "data": {
      "text/plain": [
       "array([15377,  1606,  7053, ...,  5253,  4781,  5533], shape=(2320,))"
      ]
     },
     "execution_count": 29,
     "metadata": {},
     "output_type": "execute_result"
    }
   ],
   "source": [
    "test_indices"
   ]
  },
  {
   "cell_type": "code",
   "execution_count": 31,
   "id": "7b562637",
   "metadata": {},
   "outputs": [],
   "source": [
    "label_files = [X[i] for i in test_indices]"
   ]
  },
  {
   "cell_type": "code",
   "execution_count": 32,
   "id": "08c228ae",
   "metadata": {},
   "outputs": [
    {
     "data": {
      "text/plain": [
       "(2320, 23201)"
      ]
     },
     "execution_count": 32,
     "metadata": {},
     "output_type": "execute_result"
    }
   ],
   "source": [
    "len(label_files), len(X)"
   ]
  },
  {
   "cell_type": "code",
   "execution_count": null,
   "id": "a473dce3",
   "metadata": {},
   "outputs": [
    {
     "name": "stdout",
     "output_type": "stream",
     "text": [
      "done copying\n",
      "/tmp/tmp9vtga4uz\n"
     ]
    }
   ],
   "source": [
    "with tempfile.TemporaryDirectory() as directory:\n",
    "    for labelfile in label_files:\n",
    "        # print(labelfile)\n",
    "        seqname = labelfile.parents[1].name\n",
    "        seqpath = \"dataset/sequences/\" + seqname\n",
    "        bin_file = labelfile.stem + \".bin\"\n",
    "        # print(labelfile)\n",
    "        res_velodyne = Path(directory) / seqpath / \"velodyne\"\n",
    "        res_labels = Path(directory) / seqpath / \"labels\"\n",
    "        if not res_velodyne.is_dir():\n",
    "            res_velodyne.mkdir(parents=True)\n",
    "            res_labels.mkdir(parents=True)\n",
    "\n",
    "        # print(bin_file)\n",
    "        shutil.copyfile(\n",
    "            labelfile.parents[1] / \"velodyne\" / bin_file, res_velodyne / bin_file\n",
    "        )\n",
    "        shutil.copyfile(labelfile, res_labels / str(labelfile.stem + \".label\"))\n",
    "    print(\"done copying\")\n",
    "    print(directory)\n",
    "    shutil.move(directory, \".\")\n",
    "    # shutil.make_archive(\"stratified\", \"zip\", directory)"
   ]
  },
  {
   "cell_type": "code",
   "execution_count": 103,
   "id": "178a762a",
   "metadata": {},
   "outputs": [
    {
     "data": {
      "text/plain": [
       "array([[1, 1, 0, ..., 1, 1, 1],\n",
       "       [1, 1, 0, ..., 1, 1, 1],\n",
       "       [1, 1, 0, ..., 1, 1, 1],\n",
       "       ...,\n",
       "       [1, 1, 0, ..., 1, 1, 0],\n",
       "       [1, 1, 0, ..., 1, 1, 1],\n",
       "       [1, 1, 0, ..., 1, 1, 0]], shape=(23201, 20))"
      ]
     },
     "execution_count": 103,
     "metadata": {},
     "output_type": "execute_result"
    }
   ],
   "source": [
    "y"
   ]
  },
  {
   "cell_type": "code",
   "execution_count": null,
   "id": "1065d5ad",
   "metadata": {},
   "outputs": [],
   "source": [
    "new_y = []\n",
    "for seq in SEQUENCES:\n",
    "    seqpath = \"dataset/sequences/\" + seq\n",
    "    label_dir = dataset / seqpath / \"labels\"\n",
    "    label_files = list(label_dir.iterdir())\n",
    "    filtered_labels = []\n",
    "    for file in label_files:\n",
    "        X.append(file)\n",
    "        all_frames += 1\n",
    "\n",
    "        label, _ = load_labels(file)\n",
    "        vals_unique = np.unique(label)\n",
    "        # print(vals_unique)\n",
    "        s = set()\n",
    "        for v in vals_unique:\n",
    "            s.add(parse_label(v, kitty_conf))\n",
    "        new_y.append(list(s))\n"
   ]
  },
  {
   "cell_type": "code",
   "execution_count": 128,
   "id": "b018cf5c",
   "metadata": {},
   "outputs": [
    {
     "name": "stdout",
     "output_type": "stream",
     "text": [
      "Index([6, 7], dtype='int64')\n",
      "2917\n",
      "2916\n"
     ]
    }
   ],
   "source": [
    "import random\n",
    "\n",
    "# Get class frequencies\n",
    "class_counts = labels_df.sum()\n",
    "rare_classes = class_counts[class_counts < len(labels_df) * 0.1].index\n",
    "print(rare_classes)\n",
    "# Get indices with rare classes\n",
    "rare_indices = [\n",
    "    i\n",
    "    for i, labels in enumerate(new_y)\n",
    "    if any(label in rare_classes for label in labels)\n",
    "]\n",
    "\n",
    "print(len(rare_indices))\n",
    "rare_sample_size = int(len(new_y) * 0.1257)\n",
    "common_sample_size = int(len(new_y) * 0.0001)\n",
    "\n",
    "rare_sample = random.sample(rare_indices, rare_sample_size)\n",
    "print(len(rare_sample))\n",
    "common_sample = random.sample(\n",
    "    list(set(range(len(new_y))) - set(rare_indices)), common_sample_size\n",
    ")\n",
    "\n",
    "sampled_indices = rare_sample + common_sample\n",
    "sampled_data = [X[i] for i in sampled_indices]"
   ]
  },
  {
   "cell_type": "code",
   "execution_count": 129,
   "id": "267d5d1e",
   "metadata": {},
   "outputs": [
    {
     "data": {
      "text/plain": [
       "2918"
      ]
     },
     "execution_count": 129,
     "metadata": {},
     "output_type": "execute_result"
    }
   ],
   "source": [
    "len(sampled_indices)"
   ]
  },
  {
   "cell_type": "code",
   "execution_count": 130,
   "id": "f03945ff",
   "metadata": {},
   "outputs": [],
   "source": [
    "counts_post_sample = {}\n",
    "for l in kitty_conf[\"learning_map_inv\"]:\n",
    "    counts_post_sample[l] = 0"
   ]
  },
  {
   "cell_type": "code",
   "execution_count": 131,
   "id": "7415635e",
   "metadata": {},
   "outputs": [],
   "source": [
    "for i in sampled_indices:\n",
    "    for j in new_y[i]:\n",
    "        counts_post_sample[j]+=1"
   ]
  },
  {
   "cell_type": "code",
   "execution_count": 132,
   "id": "ec5d78b2",
   "metadata": {},
   "outputs": [
    {
     "data": {
      "image/png": "[encoded data removed]",
      "text/plain": [
       "<Figure size 640x480 with 1 Axes>"
      ]
     },
     "metadata": {},
     "output_type": "display_data"
    }
   ],
   "source": [
    "plt.bar(range(len(counts_post_sample)), list(counts_post_sample.values()), align='center')\n",
    "plt.xticks(range(len(counts_post_sample)), list(counts_post_sample.keys()))\n",
    "plt.show()"
   ]
  },
  {
   "cell_type": "code",
   "execution_count": 39,
   "id": "9674fa1a",
   "metadata": {},
   "outputs": [
    {
     "data": {
      "text/plain": [
       "2320"
      ]
     },
     "execution_count": 39,
     "metadata": {},
     "output_type": "execute_result"
    }
   ],
   "source": [
    "sampled_data = [X[i] for i in sampled_indices]\n",
    "len(sampled_data)"
   ]
  },
  {
   "cell_type": "code",
   "execution_count": null,
   "id": "2be86a78",
   "metadata": {},
   "outputs": [
    {
     "name": "stdout",
     "output_type": "stream",
     "text": [
      "done copying\n",
      "/tmp/tmpop1unhcv\n"
     ]
    }
   ],
   "source": [
    "with tempfile.TemporaryDirectory() as directory:\n",
    "    for labelfile in sampled_data:\n",
    "        # print(labelfile)\n",
    "        seqname = labelfile.parents[1].name\n",
    "        seqpath = \"dataset/sequences/\" + seqname\n",
    "        bin_file = labelfile.stem + \".bin\"\n",
    "        # print(labelfile)\n",
    "        res_velodyne = Path(directory) / seqpath / \"velodyne\"\n",
    "        res_labels = Path(directory) / seqpath / \"labels\"\n",
    "        if not res_velodyne.is_dir():\n",
    "            res_velodyne.mkdir(parents=True)\n",
    "            res_labels.mkdir(parents=True)\n",
    "\n",
    "        # print(bin_file)\n",
    "        shutil.copyfile(\n",
    "            labelfile.parents[1] / \"velodyne\" / bin_file, res_velodyne / bin_file\n",
    "        )\n",
    "        shutil.copyfile(labelfile, res_labels / str(labelfile.stem + \".label\"))\n",
    "    print(\"done copying\")\n",
    "    print(directory)\n",
    "    shutil.move(directory, \".\")\n",
    "    # shutil.make_archive(\"stratified\", \"zip\", directory)"
   ]
  }
 ],
 "metadata": {
  "kernelspec": {
   "display_name": ".venv",
   "language": "python",
   "name": "python3"
  },
  "language_info": {
   "codemirror_mode": {
    "name": "ipython",
    "version": 3
   },
   "file_extension": ".py",
   "mimetype": "text/x-python",
   "name": "python",
   "nbconvert_exporter": "python",
   "pygments_lexer": "ipython3",
   "version": "3.12.3"
  }
 },
 "nbformat": 4,
 "nbformat_minor": 5
}
